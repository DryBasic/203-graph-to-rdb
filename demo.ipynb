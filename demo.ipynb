{
 "cells": [
  {
   "cell_type": "markdown",
   "metadata": {},
   "source": [
    "### Installing requirements and importing the package"
   ]
  },
  {
   "cell_type": "code",
   "execution_count": 1,
   "metadata": {},
   "outputs": [],
   "source": [
    "# GraphToRDB requirements\n",
    "# !pip3 install schema\n",
    "\n",
    "# Notebook requirements \n",
    "# !pip3 install pyyaml\n",
    "\n",
    "import GraphToRDB.src.package as g2r\n",
    "import yaml\n",
    "import json"
   ]
  },
  {
   "cell_type": "markdown",
   "metadata": {},
   "source": [
    "### Exploring the built-in schema validation\n",
    "\n",
    "`g2r.validation` returns the `Schemas` object which contains `Schema` objects from the `schema` library.\n",
    "These `Schema` objects have a `self.validate()` method which takes some data structure as an argument and compares it to the schema shape.\n",
    "\n",
    "`g2r.validation` has the following `Schema` objects: `data_node`, `data_edge`, and `map`. \n",
    "\n",
    "When calling `Schema.validate()`, if the validation fails, a exception will be raised. When it passes, the method will return the input data.\n",
    "\n",
    "**Example Validation (Pass)**"
   ]
  },
  {
   "cell_type": "code",
   "execution_count": 3,
   "metadata": {},
   "outputs": [
    {
     "data": {
      "text/plain": [
       "{'entity_tables': [{'map_node_label': ['User'],\n",
       "   'table_name': 'users',\n",
       "   'columns': [{'name': 'born',\n",
       "     'dtype': 'string',\n",
       "     'map_node_property': 'born'},\n",
       "    {'name': 'firstName', 'dtype': 'string', 'map_node_property': 'name'},\n",
       "    {'name': 'kids', 'dtype': 'list', 'map_node_property': 'kids'}]}],\n",
       " 'relationship_tables': [{'map_edge_label': 'KNOWS',\n",
       "   'table_name': 'knows',\n",
       "   'map_from_node_label': ['User'],\n",
       "   'map_to_node_label': ['User'],\n",
       "   'columns': [{'name': 'since',\n",
       "     'dtype': 'int',\n",
       "     'map_edge_property': 'since'}]}]}"
      ]
     },
     "execution_count": 3,
     "metadata": {},
     "output_type": "execute_result"
    }
   ],
   "source": [
    "with open('example_map.yml') as file:\n",
    "    config_map = yaml.safe_load(file)\n",
    "\n",
    "g2r.validation.map.validate(config_map)"
   ]
  },
  {
   "cell_type": "markdown",
   "metadata": {},
   "source": [
    "**Example Validation (Fail)**"
   ]
  },
  {
   "cell_type": "code",
   "execution_count": 4,
   "metadata": {},
   "outputs": [
    {
     "name": "stdout",
     "output_type": "stream",
     "text": [
      "'Map Config (graph to relational)' Wrong key 'new_key' in {'entity_tables': [{'map_node_label': ['User'], 'table_name': 'users', 'columns': [{'name': 'born', 'dtype': 'string', 'map_node_property': 'born'}, {'name': 'firstName', 'dtype': 'string', 'map_node_property': 'name'}, {'name': 'kids', 'dtype': 'list', 'map_node_property': 'kids'}]}], 'relationship_tables': [{'map_edge_label': 'KNOWS', 'table_name': 'knows', 'map_from_node_label': ['User'], 'map_to_node_label': ['User'], 'columns': [{'name': 'since', 'dtype': 'int', 'map_edge_property': 'since'}]}], 'new_key': None}\n"
     ]
    }
   ],
   "source": [
    "# Inserting a new key that violates the schema\n",
    "config_map['new_key'] = None\n",
    "\n",
    "try:\n",
    "    g2r.validation.map.validate(config_map)\n",
    "except Exception as error:\n",
    "    message = str(error)\n",
    "\n",
    "print(message)\n",
    "\n",
    "# remove error\n",
    "config_map.pop('new_key')"
   ]
  },
  {
   "cell_type": "code",
   "execution_count": 3,
   "metadata": {},
   "outputs": [],
   "source": [
    "tformer = g2r.Transformer()\n",
    "tformer.load_jsonlines_file('example_data.json')"
   ]
  },
  {
   "cell_type": "code",
   "execution_count": 3,
   "metadata": {},
   "outputs": [
    {
     "data": {
      "text/plain": [
       "{'type': 'relationship',\n",
       " 'i': '2053',\n",
       " 'label': 'REVIEWED',\n",
       " 'properties': {'summary': \"Slapstick redeemed only by the Robin Williams and Gene Hackman's stellar performances\",\n",
       "  'rating': 45},\n",
       " 'start': {'id': '1420',\n",
       "  'labels': ['Person'],\n",
       "  'properties': {'name': 'Jessica Thompson'}},\n",
       " 'end': {'id': '1348',\n",
       "  'labels': ['Movie'],\n",
       "  'properties': {'tagline': 'Come as you are',\n",
       "   'title': 'The Birdcage',\n",
       "   'released': 1996}}}"
      ]
     },
     "execution_count": 3,
     "metadata": {},
     "output_type": "execute_result"
    }
   ],
   "source": [
    "tformer.data[3485]"
   ]
  },
  {
   "cell_type": "code",
   "execution_count": 4,
   "metadata": {},
   "outputs": [
    {
     "ename": "SchemaMissingKeyError",
     "evalue": "Missing key: 'id'",
     "output_type": "error",
     "traceback": [
      "\u001b[0;31m---------------------------------------------------------------------------\u001b[0m",
      "\u001b[0;31mSchemaMissingKeyError\u001b[0m                     Traceback (most recent call last)",
      "\u001b[1;32m/Users/tb/Code/School/DSE/DSE 203/203-graph-to-rdb/demo.ipynb Cell 9\u001b[0m line \u001b[0;36m1\n\u001b[1;32m      <a href='vscode-notebook-cell:/Users/tb/Code/School/DSE/DSE%20203/203-graph-to-rdb/demo.ipynb#X14sZmlsZQ%3D%3D?line=0'>1</a>\u001b[0m test \u001b[39m=\u001b[39m {\u001b[39m'\u001b[39m\u001b[39mtype\u001b[39m\u001b[39m'\u001b[39m: \u001b[39m'\u001b[39m\u001b[39mrelationship\u001b[39m\u001b[39m'\u001b[39m,\n\u001b[1;32m      <a href='vscode-notebook-cell:/Users/tb/Code/School/DSE/DSE%20203/203-graph-to-rdb/demo.ipynb#X14sZmlsZQ%3D%3D?line=1'>2</a>\u001b[0m  \u001b[39m'\u001b[39m\u001b[39mi\u001b[39m\u001b[39m'\u001b[39m: \u001b[39m'\u001b[39m\u001b[39m2053\u001b[39m\u001b[39m'\u001b[39m,\n\u001b[1;32m      <a href='vscode-notebook-cell:/Users/tb/Code/School/DSE/DSE%20203/203-graph-to-rdb/demo.ipynb#X14sZmlsZQ%3D%3D?line=2'>3</a>\u001b[0m  \u001b[39m'\u001b[39m\u001b[39mlabel\u001b[39m\u001b[39m'\u001b[39m: \u001b[39m'\u001b[39m\u001b[39mREVIEWED\u001b[39m\u001b[39m'\u001b[39m,\n\u001b[0;32m   (...)\u001b[0m\n\u001b[1;32m     <a href='vscode-notebook-cell:/Users/tb/Code/School/DSE/DSE%20203/203-graph-to-rdb/demo.ipynb#X14sZmlsZQ%3D%3D?line=11'>12</a>\u001b[0m    \u001b[39m'\u001b[39m\u001b[39mtitle\u001b[39m\u001b[39m'\u001b[39m: \u001b[39m'\u001b[39m\u001b[39mThe Birdcage\u001b[39m\u001b[39m'\u001b[39m,\n\u001b[1;32m     <a href='vscode-notebook-cell:/Users/tb/Code/School/DSE/DSE%20203/203-graph-to-rdb/demo.ipynb#X14sZmlsZQ%3D%3D?line=12'>13</a>\u001b[0m    \u001b[39m'\u001b[39m\u001b[39mreleased\u001b[39m\u001b[39m'\u001b[39m: \u001b[39m1996\u001b[39m}}}\n\u001b[0;32m---> <a href='vscode-notebook-cell:/Users/tb/Code/School/DSE/DSE%20203/203-graph-to-rdb/demo.ipynb#X14sZmlsZQ%3D%3D?line=13'>14</a>\u001b[0m g2r\u001b[39m.\u001b[39;49mvalidation\u001b[39m.\u001b[39;49mdata_edge\u001b[39m.\u001b[39;49mvalidate(test)\n",
      "File \u001b[0;32m/Library/Frameworks/Python.framework/Versions/3.11/lib/python3.11/site-packages/schema.py:420\u001b[0m, in \u001b[0;36mSchema.validate\u001b[0;34m(self, data, **kwargs)\u001b[0m\n\u001b[1;32m    418\u001b[0m     message \u001b[39m=\u001b[39m \u001b[39m\"\u001b[39m\u001b[39mMissing key\u001b[39m\u001b[39m%s\u001b[39;00m\u001b[39m: \u001b[39m\u001b[39m%s\u001b[39;00m\u001b[39m\"\u001b[39m \u001b[39m%\u001b[39m (_plural_s(missing_keys), s_missing_keys)\n\u001b[1;32m    419\u001b[0m     message \u001b[39m=\u001b[39m \u001b[39mself\u001b[39m\u001b[39m.\u001b[39m_prepend_schema_name(message)\n\u001b[0;32m--> 420\u001b[0m     \u001b[39mraise\u001b[39;00m SchemaMissingKeyError(message, e\u001b[39m.\u001b[39mformat(data) \u001b[39mif\u001b[39;00m e \u001b[39melse\u001b[39;00m \u001b[39mNone\u001b[39;00m)\n\u001b[1;32m    421\u001b[0m \u001b[39mif\u001b[39;00m \u001b[39mnot\u001b[39;00m \u001b[39mself\u001b[39m\u001b[39m.\u001b[39m_ignore_extra_keys \u001b[39mand\u001b[39;00m (\u001b[39mlen\u001b[39m(new) \u001b[39m!=\u001b[39m \u001b[39mlen\u001b[39m(data)):\n\u001b[1;32m    422\u001b[0m     wrong_keys \u001b[39m=\u001b[39m \u001b[39mset\u001b[39m(data\u001b[39m.\u001b[39mkeys()) \u001b[39m-\u001b[39m \u001b[39mset\u001b[39m(new\u001b[39m.\u001b[39mkeys())\n",
      "\u001b[0;31mSchemaMissingKeyError\u001b[0m: Missing key: 'id'"
     ]
    }
   ],
   "source": [
    "test = {'type': 'relationship',\n",
    " 'i': '2053',\n",
    " 'label': 'REVIEWED',\n",
    " 'properties': {'summary': \"Slapstick redeemed only by the Robin Williams and Gene Hackman's stellar performances\",\n",
    "  'rating': 45},\n",
    " 'start': {'id': '1420',\n",
    "  'labels': ['Person'],\n",
    "  'properties': {'name': 'Jessica Thompson'}},\n",
    " 'end': {'id': '1348',\n",
    "  'labels': ['Movie'],\n",
    "  'properties': {'tagline': 'Come as you are',\n",
    "   'title': 'The Birdcage',\n",
    "   'released': 1996}}}\n",
    "g2r.validation.data_edge.validate(test)"
   ]
  },
  {
   "cell_type": "code",
   "execution_count": null,
   "metadata": {},
   "outputs": [],
   "source": []
  }
 ],
 "metadata": {
  "kernelspec": {
   "display_name": "Python 3",
   "language": "python",
   "name": "python3"
  },
  "language_info": {
   "codemirror_mode": {
    "name": "ipython",
    "version": 3
   },
   "file_extension": ".py",
   "mimetype": "text/x-python",
   "name": "python",
   "nbconvert_exporter": "python",
   "pygments_lexer": "ipython3",
   "version": "3.11.4"
  },
  "orig_nbformat": 4
 },
 "nbformat": 4,
 "nbformat_minor": 2
}
