{
 "cells": [
  {
   "cell_type": "markdown",
   "metadata": {},
   "source": [
    "### Installing requirements and importing the package"
   ]
  },
  {
   "cell_type": "code",
   "execution_count": 1,
   "metadata": {},
   "outputs": [],
   "source": [
    "# GraphToRDB requirements\n",
    "# !pip3 install schema\n",
    "# !pip3 install pyyaml\n",
    "\n",
    "import GraphToRDB as g2r\n",
    "import yaml"
   ]
  },
  {
   "cell_type": "markdown",
   "metadata": {},
   "source": [
    "### Exploring the built-in schema validation\n",
    "\n",
    "`g2r.validation` returns the `Schemas` object which contains `Schema` objects from the `schema` library.\n",
    "These `Schema` objects have a `self.validate()` method which takes some data structure as an argument and compares it to the schema shape.\n",
    "\n",
    "`g2r.validation` has the following `Schema` objects: `data_node`, `data_edge`, and `map`. \n",
    "\n",
    "When calling `Schema.validate()`, if the validation fails, a exception will be raised. When it passes, the method will return the input data.\n",
    "\n",
    "**Example Validation (Pass)**"
   ]
  },
  {
   "cell_type": "code",
   "execution_count": 2,
   "metadata": {},
   "outputs": [
    {
     "data": {
      "text/plain": [
       "{'entity_tables': [{'map_node_label': ['Movie'],\n",
       "   'table_name': 'e_movie',\n",
       "   'columns': [{'map_node_property': 'tagline',\n",
       "     'name': 'tagline',\n",
       "     'dtype': 'str'},\n",
       "    {'map_node_property': 'title', 'name': 'title', 'dtype': 'string'},\n",
       "    {'map_node_property': 'released',\n",
       "     'name': 'release_year',\n",
       "     'dtype': 'int'}]},\n",
       "  {'map_node_label': ['Person'],\n",
       "   'table_name': 'e_person',\n",
       "   'columns': [{'map_node_property': 'born',\n",
       "     'name': 'year_of_birth',\n",
       "     'dtype': 'int'},\n",
       "    {'map_node_property': 'name', 'name': 'name', 'dtype': 'string'}]}],\n",
       " 'relationship_tables': [{'map_edge_label': 'ACTED_IN',\n",
       "   'table_name': 'r_acted_in',\n",
       "   'map_from_node_label': ['Person'],\n",
       "   'map_to_node_label': ['Movie'],\n",
       "   'columns': [{'map_edge_property': 'roles',\n",
       "     'name': 'roles',\n",
       "     'dtype': 'list'}]},\n",
       "  {'map_edge_label': 'DIRECTED',\n",
       "   'table_name': 'r_directed',\n",
       "   'map_from_node_label': ['Person'],\n",
       "   'map_to_node_label': ['Movie']},\n",
       "  {'map_edge_label': 'PRODUCED',\n",
       "   'table_name': 'r_produced',\n",
       "   'map_from_node_label': ['Person'],\n",
       "   'map_to_node_label': ['Movie']},\n",
       "  {'map_edge_label': 'WROTE',\n",
       "   'table_name': 'r_wrote',\n",
       "   'map_from_node_label': ['Person'],\n",
       "   'map_to_node_label': ['Movie']},\n",
       "  {'map_edge_label': 'REVIEWED',\n",
       "   'table_name': 'r_reviewed',\n",
       "   'map_from_node_label': ['Person'],\n",
       "   'map_to_node_label': ['Movie'],\n",
       "   'columns': [{'map_edge_property': 'summary',\n",
       "     'name': 'review_text',\n",
       "     'dtype': 'text'},\n",
       "    {'map_edge_property': 'rating', 'name': 'rating', 'dtype': 'numeric'}]}]}"
      ]
     },
     "execution_count": 2,
     "metadata": {},
     "output_type": "execute_result"
    }
   ],
   "source": [
    "with open('example_map.yml') as file:\n",
    "    config_map = yaml.safe_load(file)\n",
    "\n",
    "g2r.validation.map.validate(config_map)"
   ]
  },
  {
   "cell_type": "markdown",
   "metadata": {},
   "source": [
    "**Example Validation (Fail)**"
   ]
  },
  {
   "cell_type": "code",
   "execution_count": 3,
   "metadata": {},
   "outputs": [
    {
     "name": "stdout",
     "output_type": "stream",
     "text": [
      "'Map Config (graph to relational)' Wrong key 'new_key' in {'entity_tables': [{'map_node_label': ['Movie'], 'table_name': 'e_movie', 'columns': [{'map_node_property': 'tagline', 'name': 'tagline', 'dtype': 'str'}, {'map_node_property': 'title', 'name': 'title', 'dtype': 'string'}, {'map_node_property': 'released', 'name': 'release_year', 'dtype': 'int'}]}, {'map_node_label': ['Person'], 'table_name': 'e_person', 'columns': [{'map_node_property': 'born', 'name': 'year_of_birth', 'dtype': 'int'}, {'map_node_property': 'name', 'name': 'name', 'dtype': 'string'}]}], 'relationship_tables': [{'map_edge_label': 'ACTED_IN', 'table_name': 'r_acted_in', 'map_from_node_label': ['Person'], 'map_to_node_label': ['Movie'], 'columns': [{'map_edge_property': 'roles', 'name': 'roles', 'dtype': 'list'}]}, {'map_edge_label': 'DIRECTED', 'table_name': 'r_directed', 'map_from_node_label': ['Person'], 'map_to_node_label': ['Movie']}, {'map_edge_label': 'PRODUCED', 'table_name': 'r_produced', 'map_from_node_label': ['Person'], 'map_to_node_label': ['Movie']}, {'map_edge_label': 'WROTE', 'table_name': 'r_wrote', 'map_from_node_label': ['Person'], 'map_to_node_label': ['Movie']}, {'map_edge_label': 'REVIEWED', 'table_name': 'r_reviewed', 'map_from_node_label': ['Person'], 'map_to_node_label': ['Movie'], 'columns': [{'map_edge_property': 'summary', 'name': 'review_text', 'dtype': 'text'}, {'map_edge_property': 'rating', 'name': 'rating', 'dtype': 'numeric'}]}], 'new_key': None}\n"
     ]
    }
   ],
   "source": [
    "# Inserting a new key that violates the schema\n",
    "config_map['new_key'] = None\n",
    "\n",
    "try:\n",
    "    g2r.validation.map.validate(config_map)\n",
    "except Exception as error:\n",
    "    message = str(error)\n",
    "\n",
    "print(message)\n",
    "\n",
    "# remove error\n",
    "config_map.pop('new_key')"
   ]
  },
  {
   "cell_type": "markdown",
   "metadata": {},
   "source": [
    "## Using the Transformer Object"
   ]
  },
  {
   "cell_type": "code",
   "execution_count": 4,
   "metadata": {},
   "outputs": [
    {
     "name": "stdout",
     "output_type": "stream",
     "text": [
      "\n",
      "    Takes\n",
      "    * data: path to your valid JSON lines file\n",
      "    * mapping: path to your mapping config YAML or an in-memory dict\n",
      "    * begin_conversion: default behavior generates RDB format during validation for efficiency. Alternatively, call generate_rdb() after construction.\n",
      "\n",
      "    Key Constructor Operations\n",
      "    1. Validates the schema of mappings on construction, will raise error during failure.\n",
      "    2. Validates data object by object, writing to RDB format for each success (if begin_conversion), will raise error during failure.\n",
      "\n",
      "    Attributes\n",
      "    * data: the loaded and validated JSON lines file (list of dicts)\n",
      "    * mapping: the loaded config (dict)\n",
      "    * rdb: a dict containing the output relational data\n",
      "\n",
      "    Output Options\n",
      "    * in-memory: access a dict of tables (list of lists) from self.rdb\n",
      "    * csv: call write_to_csv() method\n",
      "    * sql statements: call generate_sql() method\n",
      "    \n"
     ]
    }
   ],
   "source": [
    "print(g2r.Transformer.__doc__)"
   ]
  },
  {
   "cell_type": "code",
   "execution_count": 5,
   "metadata": {},
   "outputs": [],
   "source": [
    "tformer = g2r.Transformer(data='example_data.json', mapping='example_map.yml', begin_conversion=False)"
   ]
  },
  {
   "cell_type": "markdown",
   "metadata": {},
   "source": [
    "Setting `begin_conversion` to `False` prevents loading data to the RDB format immediately. \n",
    "But the `rdb` attribute is still initialized, allowing for a quick visual scan of the table schemas generated by your mapping:"
   ]
  },
  {
   "cell_type": "code",
   "execution_count": 6,
   "metadata": {},
   "outputs": [
    {
     "data": {
      "text/plain": [
       "{'e_movie': {'header': ['id', 'tagline', 'title', 'release_year'], 'data': []},\n",
       " 'e_person': {'header': ['id', 'year_of_birth', 'name'], 'data': []},\n",
       " 'r_acted_in': {'header': ['id', 'from_id', 'to_id', 'roles'], 'data': []},\n",
       " 'r_directed': {'header': ['id', 'from_id', 'to_id'], 'data': []},\n",
       " 'r_produced': {'header': ['id', 'from_id', 'to_id'], 'data': []},\n",
       " 'r_wrote': {'header': ['id', 'from_id', 'to_id'], 'data': []},\n",
       " 'r_reviewed': {'header': ['id', 'from_id', 'to_id', 'review_text', 'rating'],\n",
       "  'data': []}}"
      ]
     },
     "execution_count": 6,
     "metadata": {},
     "output_type": "execute_result"
    }
   ],
   "source": [
    "tformer.rdb"
   ]
  },
  {
   "cell_type": "markdown",
   "metadata": {},
   "source": [
    "If you leave `begin_conversion` to the default `True`, the `rdb` attribute will include the converted data (recommended if you're confident in the validity of your schemas). \n",
    "\n",
    "Alternatively, call the `generate_rdb()` method after construction to (re)generate the data. This allows for modification of your loaded JSON data before conversion. If you do intend to modify your loaded JSON, it is recommended to re-validate with the objects in the `g2r.validation` object.\n",
    "\n",
    "> When generating the converted data, if a label is come across that you did not include a mapping for, you will be warned.\n",
    ">\n",
    "> In the below example, all instances of \"FOLLOWS\" trigger such a warning."
   ]
  },
  {
   "cell_type": "code",
   "execution_count": 7,
   "metadata": {},
   "outputs": [
    {
     "name": "stderr",
     "output_type": "stream",
     "text": [
      "/Users/tb/Code/School/DSE/DSE 203/203-graph-to-rdb/GraphToRDB/__init__.py:153: UserWarning: \"FOLLOWS\" not in mapping. \"relationship\" of id 239 will be ignored\n",
      "  warn(f'\"{key}\" not in mapping. \"{element[\"type\"]}\" of id {element[\"id\"]} will be ignored')\n",
      "/Users/tb/Code/School/DSE/DSE 203/203-graph-to-rdb/GraphToRDB/__init__.py:153: UserWarning: \"FOLLOWS\" not in mapping. \"relationship\" of id 240 will be ignored\n",
      "  warn(f'\"{key}\" not in mapping. \"{element[\"type\"]}\" of id {element[\"id\"]} will be ignored')\n",
      "/Users/tb/Code/School/DSE/DSE 203/203-graph-to-rdb/GraphToRDB/__init__.py:153: UserWarning: \"FOLLOWS\" not in mapping. \"relationship\" of id 241 will be ignored\n",
      "  warn(f'\"{key}\" not in mapping. \"{element[\"type\"]}\" of id {element[\"id\"]} will be ignored')\n",
      "/Users/tb/Code/School/DSE/DSE 203/203-graph-to-rdb/GraphToRDB/__init__.py:153: UserWarning: \"FOLLOWS\" not in mapping. \"relationship\" of id 497 will be ignored\n",
      "  warn(f'\"{key}\" not in mapping. \"{element[\"type\"]}\" of id {element[\"id\"]} will be ignored')\n",
      "/Users/tb/Code/School/DSE/DSE 203/203-graph-to-rdb/GraphToRDB/__init__.py:153: UserWarning: \"FOLLOWS\" not in mapping. \"relationship\" of id 498 will be ignored\n",
      "  warn(f'\"{key}\" not in mapping. \"{element[\"type\"]}\" of id {element[\"id\"]} will be ignored')\n",
      "/Users/tb/Code/School/DSE/DSE 203/203-graph-to-rdb/GraphToRDB/__init__.py:153: UserWarning: \"FOLLOWS\" not in mapping. \"relationship\" of id 499 will be ignored\n",
      "  warn(f'\"{key}\" not in mapping. \"{element[\"type\"]}\" of id {element[\"id\"]} will be ignored')\n",
      "/Users/tb/Code/School/DSE/DSE 203/203-graph-to-rdb/GraphToRDB/__init__.py:153: UserWarning: \"FOLLOWS\" not in mapping. \"relationship\" of id 755 will be ignored\n",
      "  warn(f'\"{key}\" not in mapping. \"{element[\"type\"]}\" of id {element[\"id\"]} will be ignored')\n",
      "/Users/tb/Code/School/DSE/DSE 203/203-graph-to-rdb/GraphToRDB/__init__.py:153: UserWarning: \"FOLLOWS\" not in mapping. \"relationship\" of id 756 will be ignored\n",
      "  warn(f'\"{key}\" not in mapping. \"{element[\"type\"]}\" of id {element[\"id\"]} will be ignored')\n",
      "/Users/tb/Code/School/DSE/DSE 203/203-graph-to-rdb/GraphToRDB/__init__.py:153: UserWarning: \"FOLLOWS\" not in mapping. \"relationship\" of id 757 will be ignored\n",
      "  warn(f'\"{key}\" not in mapping. \"{element[\"type\"]}\" of id {element[\"id\"]} will be ignored')\n",
      "/Users/tb/Code/School/DSE/DSE 203/203-graph-to-rdb/GraphToRDB/__init__.py:153: UserWarning: \"FOLLOWS\" not in mapping. \"relationship\" of id 1013 will be ignored\n",
      "  warn(f'\"{key}\" not in mapping. \"{element[\"type\"]}\" of id {element[\"id\"]} will be ignored')\n",
      "/Users/tb/Code/School/DSE/DSE 203/203-graph-to-rdb/GraphToRDB/__init__.py:153: UserWarning: \"FOLLOWS\" not in mapping. \"relationship\" of id 1014 will be ignored\n",
      "  warn(f'\"{key}\" not in mapping. \"{element[\"type\"]}\" of id {element[\"id\"]} will be ignored')\n",
      "/Users/tb/Code/School/DSE/DSE 203/203-graph-to-rdb/GraphToRDB/__init__.py:153: UserWarning: \"FOLLOWS\" not in mapping. \"relationship\" of id 1015 will be ignored\n",
      "  warn(f'\"{key}\" not in mapping. \"{element[\"type\"]}\" of id {element[\"id\"]} will be ignored')\n",
      "/Users/tb/Code/School/DSE/DSE 203/203-graph-to-rdb/GraphToRDB/__init__.py:153: UserWarning: \"FOLLOWS\" not in mapping. \"relationship\" of id 1271 will be ignored\n",
      "  warn(f'\"{key}\" not in mapping. \"{element[\"type\"]}\" of id {element[\"id\"]} will be ignored')\n",
      "/Users/tb/Code/School/DSE/DSE 203/203-graph-to-rdb/GraphToRDB/__init__.py:153: UserWarning: \"FOLLOWS\" not in mapping. \"relationship\" of id 1272 will be ignored\n",
      "  warn(f'\"{key}\" not in mapping. \"{element[\"type\"]}\" of id {element[\"id\"]} will be ignored')\n",
      "/Users/tb/Code/School/DSE/DSE 203/203-graph-to-rdb/GraphToRDB/__init__.py:153: UserWarning: \"FOLLOWS\" not in mapping. \"relationship\" of id 1273 will be ignored\n",
      "  warn(f'\"{key}\" not in mapping. \"{element[\"type\"]}\" of id {element[\"id\"]} will be ignored')\n",
      "/Users/tb/Code/School/DSE/DSE 203/203-graph-to-rdb/GraphToRDB/__init__.py:153: UserWarning: \"FOLLOWS\" not in mapping. \"relationship\" of id 1529 will be ignored\n",
      "  warn(f'\"{key}\" not in mapping. \"{element[\"type\"]}\" of id {element[\"id\"]} will be ignored')\n",
      "/Users/tb/Code/School/DSE/DSE 203/203-graph-to-rdb/GraphToRDB/__init__.py:153: UserWarning: \"FOLLOWS\" not in mapping. \"relationship\" of id 1530 will be ignored\n",
      "  warn(f'\"{key}\" not in mapping. \"{element[\"type\"]}\" of id {element[\"id\"]} will be ignored')\n",
      "/Users/tb/Code/School/DSE/DSE 203/203-graph-to-rdb/GraphToRDB/__init__.py:153: UserWarning: \"FOLLOWS\" not in mapping. \"relationship\" of id 1531 will be ignored\n",
      "  warn(f'\"{key}\" not in mapping. \"{element[\"type\"]}\" of id {element[\"id\"]} will be ignored')\n",
      "/Users/tb/Code/School/DSE/DSE 203/203-graph-to-rdb/GraphToRDB/__init__.py:153: UserWarning: \"FOLLOWS\" not in mapping. \"relationship\" of id 1787 will be ignored\n",
      "  warn(f'\"{key}\" not in mapping. \"{element[\"type\"]}\" of id {element[\"id\"]} will be ignored')\n",
      "/Users/tb/Code/School/DSE/DSE 203/203-graph-to-rdb/GraphToRDB/__init__.py:153: UserWarning: \"FOLLOWS\" not in mapping. \"relationship\" of id 1788 will be ignored\n",
      "  warn(f'\"{key}\" not in mapping. \"{element[\"type\"]}\" of id {element[\"id\"]} will be ignored')\n",
      "/Users/tb/Code/School/DSE/DSE 203/203-graph-to-rdb/GraphToRDB/__init__.py:153: UserWarning: \"FOLLOWS\" not in mapping. \"relationship\" of id 1789 will be ignored\n",
      "  warn(f'\"{key}\" not in mapping. \"{element[\"type\"]}\" of id {element[\"id\"]} will be ignored')\n",
      "/Users/tb/Code/School/DSE/DSE 203/203-graph-to-rdb/GraphToRDB/__init__.py:153: UserWarning: \"FOLLOWS\" not in mapping. \"relationship\" of id 2045 will be ignored\n",
      "  warn(f'\"{key}\" not in mapping. \"{element[\"type\"]}\" of id {element[\"id\"]} will be ignored')\n",
      "/Users/tb/Code/School/DSE/DSE 203/203-graph-to-rdb/GraphToRDB/__init__.py:153: UserWarning: \"FOLLOWS\" not in mapping. \"relationship\" of id 2046 will be ignored\n",
      "  warn(f'\"{key}\" not in mapping. \"{element[\"type\"]}\" of id {element[\"id\"]} will be ignored')\n",
      "/Users/tb/Code/School/DSE/DSE 203/203-graph-to-rdb/GraphToRDB/__init__.py:153: UserWarning: \"FOLLOWS\" not in mapping. \"relationship\" of id 2047 will be ignored\n",
      "  warn(f'\"{key}\" not in mapping. \"{element[\"type\"]}\" of id {element[\"id\"]} will be ignored')\n"
     ]
    }
   ],
   "source": [
    "tformer.generate_rdb()"
   ]
  },
  {
   "cell_type": "markdown",
   "metadata": {},
   "source": [
    "Converted data:"
   ]
  },
  {
   "cell_type": "code",
   "execution_count": 8,
   "metadata": {},
   "outputs": [
    {
     "data": {
      "text/plain": [
       "[[0, 'Welcome to the Real World', 'The Matrix', 1999],\n",
       " [9, 'Free your mind', 'The Matrix Reloaded', 2003],\n",
       " [10,\n",
       "  'Everything that has a beginning has an end',\n",
       "  'The Matrix Revolutions',\n",
       "  2003],\n",
       " [11, 'Evil has its winning ways', \"The Devil's Advocate\", 1997]]"
      ]
     },
     "execution_count": 8,
     "metadata": {},
     "output_type": "execute_result"
    }
   ],
   "source": [
    "tformer.rdb[\"e_movie\"][\"data\"][:4]"
   ]
  },
  {
   "cell_type": "markdown",
   "metadata": {},
   "source": [
    "DataFrame compatibility:"
   ]
  },
  {
   "cell_type": "code",
   "execution_count": 9,
   "metadata": {},
   "outputs": [
    {
     "data": {
      "text/html": [
       "<div>\n",
       "<style scoped>\n",
       "    .dataframe tbody tr th:only-of-type {\n",
       "        vertical-align: middle;\n",
       "    }\n",
       "\n",
       "    .dataframe tbody tr th {\n",
       "        vertical-align: top;\n",
       "    }\n",
       "\n",
       "    .dataframe thead th {\n",
       "        text-align: right;\n",
       "    }\n",
       "</style>\n",
       "<table border=\"1\" class=\"dataframe\">\n",
       "  <thead>\n",
       "    <tr style=\"text-align: right;\">\n",
       "      <th></th>\n",
       "      <th>id</th>\n",
       "      <th>tagline</th>\n",
       "      <th>title</th>\n",
       "      <th>release_year</th>\n",
       "    </tr>\n",
       "  </thead>\n",
       "  <tbody>\n",
       "    <tr>\n",
       "      <th>0</th>\n",
       "      <td>0</td>\n",
       "      <td>Welcome to the Real World</td>\n",
       "      <td>The Matrix</td>\n",
       "      <td>1999</td>\n",
       "    </tr>\n",
       "    <tr>\n",
       "      <th>1</th>\n",
       "      <td>9</td>\n",
       "      <td>Free your mind</td>\n",
       "      <td>The Matrix Reloaded</td>\n",
       "      <td>2003</td>\n",
       "    </tr>\n",
       "    <tr>\n",
       "      <th>2</th>\n",
       "      <td>10</td>\n",
       "      <td>Everything that has a beginning has an end</td>\n",
       "      <td>The Matrix Revolutions</td>\n",
       "      <td>2003</td>\n",
       "    </tr>\n",
       "    <tr>\n",
       "      <th>3</th>\n",
       "      <td>11</td>\n",
       "      <td>Evil has its winning ways</td>\n",
       "      <td>The Devil's Advocate</td>\n",
       "      <td>1997</td>\n",
       "    </tr>\n",
       "    <tr>\n",
       "      <th>4</th>\n",
       "      <td>15</td>\n",
       "      <td>In the heart of the nation's capital, in a cou...</td>\n",
       "      <td>A Few Good Men</td>\n",
       "      <td>1992</td>\n",
       "    </tr>\n",
       "    <tr>\n",
       "      <th>...</th>\n",
       "      <td>...</td>\n",
       "      <td>...</td>\n",
       "      <td>...</td>\n",
       "      <td>...</td>\n",
       "    </tr>\n",
       "    <tr>\n",
       "      <th>315</th>\n",
       "      <td>1410</td>\n",
       "      <td>A stiff drink. A little mascara. A lot of nerv...</td>\n",
       "      <td>Charlie Wilson's War</td>\n",
       "      <td>2007</td>\n",
       "    </tr>\n",
       "    <tr>\n",
       "      <th>316</th>\n",
       "      <td>1412</td>\n",
       "      <td>This Holiday Season… Believe</td>\n",
       "      <td>The Polar Express</td>\n",
       "      <td>2004</td>\n",
       "    </tr>\n",
       "    <tr>\n",
       "      <th>317</th>\n",
       "      <td>1413</td>\n",
       "      <td>Once in a lifetime you get a chance to do some...</td>\n",
       "      <td>A League of Their Own</td>\n",
       "      <td>1992</td>\n",
       "    </tr>\n",
       "    <tr>\n",
       "      <th>318</th>\n",
       "      <td>1422</td>\n",
       "      <td>Act like you own the place</td>\n",
       "      <td>Parasite</td>\n",
       "      <td>2019</td>\n",
       "    </tr>\n",
       "    <tr>\n",
       "      <th>319</th>\n",
       "      <td>1428</td>\n",
       "      <td>Put on a happy face</td>\n",
       "      <td>Joker</td>\n",
       "      <td>2019</td>\n",
       "    </tr>\n",
       "  </tbody>\n",
       "</table>\n",
       "<p>320 rows × 4 columns</p>\n",
       "</div>"
      ],
      "text/plain": [
       "       id                                            tagline  \\\n",
       "0       0                          Welcome to the Real World   \n",
       "1       9                                     Free your mind   \n",
       "2      10         Everything that has a beginning has an end   \n",
       "3      11                          Evil has its winning ways   \n",
       "4      15  In the heart of the nation's capital, in a cou...   \n",
       "..    ...                                                ...   \n",
       "315  1410  A stiff drink. A little mascara. A lot of nerv...   \n",
       "316  1412                       This Holiday Season… Believe   \n",
       "317  1413  Once in a lifetime you get a chance to do some...   \n",
       "318  1422                         Act like you own the place   \n",
       "319  1428                                Put on a happy face   \n",
       "\n",
       "                      title  release_year  \n",
       "0                The Matrix          1999  \n",
       "1       The Matrix Reloaded          2003  \n",
       "2    The Matrix Revolutions          2003  \n",
       "3      The Devil's Advocate          1997  \n",
       "4            A Few Good Men          1992  \n",
       "..                      ...           ...  \n",
       "315    Charlie Wilson's War          2007  \n",
       "316       The Polar Express          2004  \n",
       "317   A League of Their Own          1992  \n",
       "318                Parasite          2019  \n",
       "319                   Joker          2019  \n",
       "\n",
       "[320 rows x 4 columns]"
      ]
     },
     "execution_count": 9,
     "metadata": {},
     "output_type": "execute_result"
    }
   ],
   "source": [
    "from pandas import DataFrame\n",
    "movies = tformer.rdb[\"e_movie\"]\n",
    "DataFrame(data=movies[\"data\"], columns=movies[\"header\"])"
   ]
  },
  {
   "cell_type": "markdown",
   "metadata": {},
   "source": [
    "### Other Outputs\n",
    "\n",
    "To CSVs:"
   ]
  },
  {
   "cell_type": "code",
   "execution_count": null,
   "metadata": {},
   "outputs": [],
   "source": [
    "tformer.write_to_csv(write_to_directory=\"transformed_data\")"
   ]
  },
  {
   "cell_type": "markdown",
   "metadata": {},
   "source": [
    "To a PostgreSQL Schema:"
   ]
  },
  {
   "cell_type": "code",
   "execution_count": 10,
   "metadata": {},
   "outputs": [
    {
     "name": "stdout",
     "output_type": "stream",
     "text": [
      "CREATE TABLE e_movie (\n",
      "\ttagline\t\tTEXT,\n",
      "\ttitle\t\tTEXT,\n",
      "\trelease_year\t\tINTEGER\n",
      ");\n",
      "\n",
      "CREATE TABLE e_person (\n",
      "\tyear_of_birth\t\tINTEGER,\n",
      "\tname\t\tTEXT\n",
      ");\n",
      "\n",
      "CREATE TABLE r_acted_in (\n",
      "\tfrom_id\t\tINTEGER,\n",
      "\tto_id\t\tINTEGER,\n",
      "\troles\t\tTEXT ARRAY\n",
      ");\n",
      "\n",
      "CREATE TABLE r_directed (\n",
      "\tfrom_id\t\tINTEGER,\n",
      "\tto_id\t\tINTEGER\n",
      ");\n",
      "\n",
      "CREATE TABLE r_produced (\n",
      "\tfrom_id\t\tINTEGER,\n",
      "\tto_id\t\tINTEGER\n",
      ");\n",
      "\n",
      "CREATE TABLE r_wrote (\n",
      "\tfrom_id\t\tINTEGER,\n",
      "\tto_id\t\tINTEGER\n",
      ");\n",
      "\n",
      "CREATE TABLE r_reviewed (\n",
      "\tfrom_id\t\tINTEGER,\n",
      "\tto_id\t\tINTEGER,\n",
      "\treview_text\t\tTEXT,\n",
      "\trating\t\tNUMERIC\n",
      ");\n"
     ]
    }
   ],
   "source": [
    "# can specify to write to a file instead of returning the text\n",
    "sql_ddl = tformer.generate_sql()\n",
    "print(sql_ddl[\"CREATE\"])"
   ]
  },
  {
   "cell_type": "markdown",
   "metadata": {},
   "source": [
    "### TLDR\n",
    "\n",
    "For simple workflows:\n",
    "```\n",
    "import GraphToRDB as g2r\n",
    "\n",
    "obj = g2r.Transformer(data=\"my_jsonlines.json\", mapping=\"my_config.yml\")\n",
    "obj.write_to_csv(write_to_directory=\"my_output_directory\")\n",
    "```\n",
    "\n"
   ]
  }
 ],
 "metadata": {
  "kernelspec": {
   "display_name": "Python 3",
   "language": "python",
   "name": "python3"
  },
  "language_info": {
   "codemirror_mode": {
    "name": "ipython",
    "version": 3
   },
   "file_extension": ".py",
   "mimetype": "text/x-python",
   "name": "python",
   "nbconvert_exporter": "python",
   "pygments_lexer": "ipython3",
   "version": "3.11.4"
  },
  "orig_nbformat": 4
 },
 "nbformat": 4,
 "nbformat_minor": 2
}
