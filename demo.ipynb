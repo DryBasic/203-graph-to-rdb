{
 "cells": [
  {
   "cell_type": "markdown",
   "metadata": {},
   "source": [
    "### Installing requirements and importing the package"
   ]
  },
  {
   "cell_type": "code",
   "execution_count": 1,
   "metadata": {},
   "outputs": [],
   "source": [
    "# GraphToRDB requirements\n",
    "# !pip3 install schema\n",
    "\n",
    "# Notebook requirements \n",
    "# !pip3 install pyyaml\n",
    "\n",
    "import GraphToRDB as g2r\n",
    "import yaml\n",
    "import json"
   ]
  },
  {
   "cell_type": "markdown",
   "metadata": {},
   "source": [
    "### Exploring the built-in schema validation\n",
    "\n",
    "`g2r.validation` returns the `Schemas` object which contains `Schema` objects from the `schema` library.\n",
    "These `Schema` objects have a `self.validate()` method which takes some data structure as an argument and compares it to the schema shape.\n",
    "\n",
    "`g2r.validation` has the following `Schema` objects: `data_node`, `data_edge`, and `map`. \n",
    "\n",
    "When calling `Schema.validate()`, if the validation fails, a exception will be raised. When it passes, the method will return the input data.\n",
    "\n",
    "**Example Validation (Pass)**"
   ]
  },
  {
   "cell_type": "code",
   "execution_count": 6,
   "metadata": {},
   "outputs": [
    {
     "data": {
      "text/plain": [
       "{'entity_tables': [{'map_node_label': ['User'],\n",
       "   'table_name': 'users',\n",
       "   'columns': [{'name': 'born',\n",
       "     'dtype': 'string',\n",
       "     'map_node_property': 'born'},\n",
       "    {'name': 'firstName', 'dtype': 'string', 'map_node_property': 'name'},\n",
       "    {'name': 'kids', 'dtype': 'list', 'map_node_property': 'kids'}]}],\n",
       " 'relationship_tables': [{'map_edge_label': 'KNOWS',\n",
       "   'table_name': 'knows',\n",
       "   'map_from_node_label': ['User'],\n",
       "   'map_to_node_label': ['User'],\n",
       "   'columns': [{'name': 'since',\n",
       "     'dtype': 'int',\n",
       "     'map_edge_property': 'since'}]}]}"
      ]
     },
     "execution_count": 6,
     "metadata": {},
     "output_type": "execute_result"
    }
   ],
   "source": [
    "with open('example_map.yml') as file:\n",
    "    config_map = yaml.safe_load(file)\n",
    "\n",
    "g2r.validation.map.validate(config_map)"
   ]
  },
  {
   "cell_type": "markdown",
   "metadata": {},
   "source": [
    "**Example Validation (Fail)**"
   ]
  },
  {
   "cell_type": "code",
   "execution_count": 7,
   "metadata": {},
   "outputs": [
    {
     "name": "stdout",
     "output_type": "stream",
     "text": [
      "'Map Config (graph to relational)' Wrong key 'new_key' in {'entity_tables': [{'map_node_label': ['User'], 'table_name': 'users', 'columns': [{'name': 'born', 'dtype': 'string', 'map_node_property': 'born'}, {'name': 'firstName', 'dtype': 'string', 'map_node_property': 'name'}, {'name': 'kids', 'dtype': 'list', 'map_node_property': 'kids'}]}], 'relationship_tables': [{'map_edge_label': 'KNOWS', 'table_name': 'knows', 'map_from_node_label': ['User'], 'map_to_node_label': ['User'], 'columns': [{'name': 'since', 'dtype': 'int', 'map_edge_property': 'since'}]}], 'new_key': None}\n"
     ]
    }
   ],
   "source": [
    "# Inserting a new key that violates the schema\n",
    "config_map['new_key'] = None\n",
    "\n",
    "try:\n",
    "    g2r.validation.map.validate(config_map)\n",
    "except Exception as error:\n",
    "    message = str(error)\n",
    "\n",
    "print(message)\n",
    "\n",
    "# remove error\n",
    "config_map.pop('new_key')"
   ]
  },
  {
   "cell_type": "code",
   "execution_count": 2,
   "metadata": {},
   "outputs": [],
   "source": [
    "t = g2r.Transformer(data='example_data.json', mapping='example_map.yml')"
   ]
  },
  {
   "cell_type": "code",
   "execution_count": null,
   "metadata": {},
   "outputs": [],
   "source": []
  }
 ],
 "metadata": {
  "kernelspec": {
   "display_name": "Python 3",
   "language": "python",
   "name": "python3"
  },
  "language_info": {
   "codemirror_mode": {
    "name": "ipython",
    "version": 3
   },
   "file_extension": ".py",
   "mimetype": "text/x-python",
   "name": "python",
   "nbconvert_exporter": "python",
   "pygments_lexer": "ipython3",
   "version": "3.11.4"
  },
  "orig_nbformat": 4
 },
 "nbformat": 4,
 "nbformat_minor": 2
}
