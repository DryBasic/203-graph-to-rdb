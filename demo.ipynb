{
 "cells": [
  {
   "cell_type": "markdown",
   "metadata": {},
   "source": [
    "### Installing requirements and importing the package"
   ]
  },
  {
   "cell_type": "code",
   "execution_count": 2,
   "metadata": {},
   "outputs": [],
   "source": [
    "# GraphToRDB requirements\n",
    "# !pip3 install schema\n",
    "# !pip3 install pyyaml\n",
    "\n",
    "import GraphToRDB as g2r\n",
    "import yaml"
   ]
  },
  {
   "cell_type": "markdown",
   "metadata": {},
   "source": [
    "### Exploring the built-in schema validation\n",
    "\n",
    "`g2r.validation` returns the `Schemas` object which contains `Schema` objects from the `schema` library.\n",
    "These `Schema` objects have a `self.validate()` method which takes some data structure as an argument and compares it to the schema shape.\n",
    "\n",
    "`g2r.validation` has the following `Schema` objects: `data_node`, `data_edge`, and `map`. \n",
    "\n",
    "When calling `Schema.validate()`, if the validation fails, a exception will be raised. When it passes, the method will return the input data.\n",
    "\n",
    "**Example Validation (Pass)**"
   ]
  },
  {
   "cell_type": "code",
   "execution_count": 3,
   "metadata": {},
   "outputs": [
    {
     "data": {
      "text/plain": [
       "{'entity_tables': [{'map_node_label': ['Movie'],\n",
       "   'table_name': 'e_movie',\n",
       "   'columns': [{'map_node_property': 'tagline',\n",
       "     'name': 'tagline',\n",
       "     'dtype': 'str'},\n",
       "    {'map_node_property': 'title', 'name': 'title', 'dtype': 'string'},\n",
       "    {'map_node_property': 'released',\n",
       "     'name': 'release_year',\n",
       "     'dtype': 'int'}]},\n",
       "  {'map_node_label': ['Person'],\n",
       "   'table_name': 'e_person',\n",
       "   'columns': [{'map_node_property': 'born',\n",
       "     'name': 'year_of_birth',\n",
       "     'dtype': 'int'},\n",
       "    {'map_node_property': 'name', 'name': 'name', 'dtype': 'string'}]}],\n",
       " 'relationship_tables': [{'map_edge_label': 'ACTED_IN',\n",
       "   'table_name': 'r_acted_in',\n",
       "   'map_from_node_label': ['Person'],\n",
       "   'map_to_node_label': ['Movie'],\n",
       "   'columns': [{'map_edge_property': 'roles',\n",
       "     'name': 'roles',\n",
       "     'dtype': 'list'}]},\n",
       "  {'map_edge_label': 'DIRECTED',\n",
       "   'table_name': 'r_directed',\n",
       "   'map_from_node_label': ['Person'],\n",
       "   'map_to_node_label': ['Movie']},\n",
       "  {'map_edge_label': 'PRODUCED',\n",
       "   'table_name': 'r_produced',\n",
       "   'map_from_node_label': ['Person'],\n",
       "   'map_to_node_label': ['Movie']},\n",
       "  {'map_edge_label': 'WROTE',\n",
       "   'table_name': 'r_wrote',\n",
       "   'map_from_node_label': ['Person'],\n",
       "   'map_to_node_label': ['Movie']}]}"
      ]
     },
     "execution_count": 3,
     "metadata": {},
     "output_type": "execute_result"
    }
   ],
   "source": [
    "with open('example_map.yml') as file:\n",
    "    config_map = yaml.safe_load(file)\n",
    "\n",
    "g2r.validation.map.validate(config_map)"
   ]
  },
  {
   "cell_type": "markdown",
   "metadata": {},
   "source": [
    "**Example Validation (Fail)**"
   ]
  },
  {
   "cell_type": "code",
   "execution_count": 4,
   "metadata": {},
   "outputs": [
    {
     "name": "stdout",
     "output_type": "stream",
     "text": [
      "'Map Config (graph to relational)' Wrong key 'new_key' in {'entity_tables': [{'map_node_label': ['Movie'], 'table_name': 'e_movie', 'columns': [{'map_node_property': 'tagline', 'name': 'tagline', 'dtype': 'str'}, {'map_node_property': 'title', 'name': 'title', 'dtype': 'string'}, {'map_node_property': 'released', 'name': 'release_year', 'dtype': 'int'}]}, {'map_node_label': ['Person'], 'table_name': 'e_person', 'columns': [{'map_node_property': 'born', 'name': 'year_of_birth', 'dtype': 'int'}, {'map_node_property': 'name', 'name': 'name', 'dtype': 'string'}]}], 'relationship_tables': [{'map_edge_label': 'ACTED_IN', 'table_name': 'r_acted_in', 'map_from_node_label': ['Person'], 'map_to_node_label': ['Movie'], 'columns': [{'map_edge_property': 'roles', 'name': 'roles', 'dtype': 'list'}]}, {'map_edge_label': 'DIRECTED', 'table_name': 'r_directed', 'map_from_node_label': ['Person'], 'map_to_node_label': ['Movie']}, {'map_edge_label': 'PRODUCED', 'table_name': 'r_produced', 'map_from_node_label': ['Person'], 'map_to_node_label': ['Movie']}, {'map_edge_label': 'WROTE', 'table_name': 'r_wrote', 'map_from_node_label': ['Person'], 'map_to_node_label': ['Movie']}], 'new_key': None}\n"
     ]
    }
   ],
   "source": [
    "# Inserting a new key that violates the schema\n",
    "config_map['new_key'] = None\n",
    "\n",
    "try:\n",
    "    g2r.validation.map.validate(config_map)\n",
    "except Exception as error:\n",
    "    message = str(error)\n",
    "\n",
    "print(message)\n",
    "\n",
    "# remove error\n",
    "config_map.pop('new_key')"
   ]
  },
  {
   "cell_type": "markdown",
   "metadata": {},
   "source": [
    "## Using the Transformer Object"
   ]
  },
  {
   "cell_type": "code",
   "execution_count": 5,
   "metadata": {},
   "outputs": [
    {
     "name": "stdout",
     "output_type": "stream",
     "text": [
      "\n",
      "    Takes\n",
      "    * data: path to your valid JSON lines file\n",
      "    * mapping: path to your mapping config YAML or an in-memory dict\n",
      "\n",
      "    Validates the schema of the data and mappings on construction, will raise error during failure.\n",
      "    If successful, access the output through the \"rdb\" attribute.\n",
      "    You may write these sets to csvs or as SQL CREATE & INSERT statements.\n",
      "\n",
      "    Attributes\n",
      "    * data: the loaded and validated JSON lines file (list of dicts)\n",
      "    * mapping: the loaded config (dict)\n",
      "    * rdb: a dict containing the relational tables, initialized as empty dict at construction\n",
      "\n",
      "    Output options (after calling generate_rdb_tables() method)\n",
      "    * in-memory: access a dict of tables (tuple of tuples) from self.rdb\n",
      "    * csv: call write_to_csv() method\n",
      "    * sql statements: call generate_sql() method\n",
      "\n",
      "    \n"
     ]
    }
   ],
   "source": [
    "print(g2r.Transformer.__doc__)"
   ]
  },
  {
   "cell_type": "code",
   "execution_count": 6,
   "metadata": {},
   "outputs": [],
   "source": [
    "tformer = g2r.Transformer(data='example_data.json', mapping='example_map.yml')"
   ]
  },
  {
   "cell_type": "code",
   "execution_count": null,
   "metadata": {},
   "outputs": [],
   "source": []
  }
 ],
 "metadata": {
  "kernelspec": {
   "display_name": "Python 3",
   "language": "python",
   "name": "python3"
  },
  "language_info": {
   "codemirror_mode": {
    "name": "ipython",
    "version": 3
   },
   "file_extension": ".py",
   "mimetype": "text/x-python",
   "name": "python",
   "nbconvert_exporter": "python",
   "pygments_lexer": "ipython3",
   "version": "3.11.4"
  },
  "orig_nbformat": 4
 },
 "nbformat": 4,
 "nbformat_minor": 2
}
